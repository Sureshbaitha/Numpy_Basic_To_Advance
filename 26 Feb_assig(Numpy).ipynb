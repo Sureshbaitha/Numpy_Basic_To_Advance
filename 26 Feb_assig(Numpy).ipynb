{
 "cells": [
  {
   "cell_type": "markdown",
   "id": "2f44f8f5-cbe0-4f0a-b2c1-39f33fda1976",
   "metadata": {},
   "source": [
    "Consider the below code to answer further questions:\n",
    "import numpy as np\n",
    "list_ = [ ‘1’ , ’2’ , ‘3’ , ‘4’ , ‘5’ ]\n",
    "array_list = np.array(object = list_)"
   ]
  },
  {
   "cell_type": "code",
   "execution_count": 2,
   "id": "94fb2f57-a02f-4738-8d04-17f3ca7ca944",
   "metadata": {},
   "outputs": [],
   "source": [
    "#Consider the below code to answer further questions:\n",
    "import numpy as np\n",
    "list_ = [ \"1\" , \"2\" , \"3\" , \"4\" , \"5\" ]\n",
    "array_list = np.array(object = list_)"
   ]
  },
  {
   "cell_type": "markdown",
   "id": "a2265f90-3c8e-4c8b-bda3-35da3e671d15",
   "metadata": {},
   "source": [
    "Q1. Is there any difference in the data type of variables list_ and array_list? If there is then write a code\n",
    "to print the data types of both the variables."
   ]
  },
  {
   "cell_type": "markdown",
   "id": "6ef07932-4d78-439d-b5d0-b748c3dbc45a",
   "metadata": {},
   "source": [
    "Answer:-Yes, there is a difference in the data type of variables list_ and array_list. The list_ variable is a Python list object, whereas the array_list variable is a NumPy array object. We can print the data types of both variables using the following code:"
   ]
  },
  {
   "cell_type": "code",
   "execution_count": 3,
   "id": "70fc9936-0a22-46d6-b511-fb4c6c96dd86",
   "metadata": {},
   "outputs": [
    {
     "name": "stdout",
     "output_type": "stream",
     "text": [
      "<class 'list'>\n",
      "<class 'numpy.ndarray'>\n"
     ]
    }
   ],
   "source": [
    "print(type(list_))\n",
    "print(type(array_list))\n"
   ]
  },
  {
   "cell_type": "markdown",
   "id": "a603da3c-3718-49fa-a581-ee505a036aec",
   "metadata": {},
   "source": [
    "Q2. Write a code to print the data type of each and every element of both the variables list_ and\n",
    "arra_list."
   ]
  },
  {
   "cell_type": "markdown",
   "id": "6ca2e1f7-23a4-443c-952e-a58821f44042",
   "metadata": {},
   "source": [
    "Answer:-We can print the data type of each and every element of both the variables using a loop as follows:"
   ]
  },
  {
   "cell_type": "code",
   "execution_count": 4,
   "id": "94d049d7-6a99-458a-9a30-7f29af3732d1",
   "metadata": {},
   "outputs": [
    {
     "name": "stdout",
     "output_type": "stream",
     "text": [
      "<class 'str'>\n",
      "<class 'str'>\n",
      "<class 'str'>\n",
      "<class 'str'>\n",
      "<class 'str'>\n",
      "<class 'numpy.str_'>\n",
      "<class 'numpy.str_'>\n",
      "<class 'numpy.str_'>\n",
      "<class 'numpy.str_'>\n",
      "<class 'numpy.str_'>\n"
     ]
    }
   ],
   "source": [
    "# For list_\n",
    "for elem in list_:\n",
    "    print(type(elem))\n",
    "\n",
    "# For array_list\n",
    "for elem in array_list:\n",
    "    print(type(elem))\n"
   ]
  },
  {
   "cell_type": "markdown",
   "id": "a7636732-778b-4d85-8bf8-5bee99acb151",
   "metadata": {},
   "source": [
    "Q3. Considering the following changes in the variable, array_list:\n",
    "array_list = np.array(object = list_, dtype = int)\n",
    "Will there be any difference in the data type of the elements present in both the variables, list_ and\n",
    "arra_list? If so then print the data types of each and every element present in both the variables, list_\n",
    "and arra_list."
   ]
  },
  {
   "cell_type": "markdown",
   "id": "e76ab9d3-5028-43b4-905d-b77624992438",
   "metadata": {},
   "source": [
    "Answer:-Yes, there will be a difference in the data type of the elements present in both the variables, list_ and array_list. When we create the array_list using the np.array function with the dtype parameter set to int, the elements of the resulting array will be converted to integers. We can print the data types of each and every element present in both the variables using the following code:"
   ]
  },
  {
   "cell_type": "code",
   "execution_count": 5,
   "id": "ca54d35d-a5f3-4c7c-80e0-cf48c36434be",
   "metadata": {},
   "outputs": [
    {
     "name": "stdout",
     "output_type": "stream",
     "text": [
      "<class 'str'>\n",
      "<class 'str'>\n",
      "<class 'str'>\n",
      "<class 'str'>\n",
      "<class 'str'>\n",
      "<class 'numpy.str_'>\n",
      "<class 'numpy.str_'>\n",
      "<class 'numpy.str_'>\n",
      "<class 'numpy.str_'>\n",
      "<class 'numpy.str_'>\n",
      "<class 'numpy.int64'>\n",
      "<class 'numpy.int64'>\n",
      "<class 'numpy.int64'>\n",
      "<class 'numpy.int64'>\n",
      "<class 'numpy.int64'>\n"
     ]
    }
   ],
   "source": [
    "# For list_\n",
    "for elem in list_:\n",
    "    print(type(elem))\n",
    "\n",
    "# For array_list\n",
    "for elem in array_list:\n",
    "    print(type(elem))\n",
    "\n",
    "# For updated array_list\n",
    "array_list = np.array(object=list_, dtype=int)\n",
    "for elem in array_list:\n",
    "    print(type(elem))\n"
   ]
  },
  {
   "cell_type": "code",
   "execution_count": 6,
   "id": "ad361d48-030a-45b3-a083-33a1a2f6fae8",
   "metadata": {},
   "outputs": [],
   "source": [
    "#Consider the below code to answer further questions:\n",
    "import numpy as np\n",
    "num_list = [ [ 1 , 2 , 3 ] , [ 4 , 5 , 6 ] ]\n",
    "num_array = np.array(object = num_list)"
   ]
  },
  {
   "cell_type": "markdown",
   "id": "264552f7-a15b-4d4d-921d-381d14f96671",
   "metadata": {},
   "source": [
    "Q4. Write a code to find the following characteristics of variable, num_array:\n",
    "(i) shape\n",
    "(ii) size"
   ]
  },
  {
   "cell_type": "code",
   "execution_count": 7,
   "id": "4dad2e7f-7d2f-4b9f-ac39-21c81fc06d57",
   "metadata": {},
   "outputs": [
    {
     "name": "stdout",
     "output_type": "stream",
     "text": [
      "(2, 3)\n",
      "6\n"
     ]
    }
   ],
   "source": [
    "print(num_array.shape)\n",
    "print(num_array.size)"
   ]
  },
  {
   "cell_type": "markdown",
   "id": "655e2d88-e57d-463b-9003-b707ef64630c",
   "metadata": {},
   "source": [
    "Q5. Write a code to create numpy array of 3*3 matrix containing zeros only, using a numpy array\n",
    "creation function.\n",
    "[Hint: The size of the array will be 9 and the shape will be (3,3).]"
   ]
  },
  {
   "cell_type": "markdown",
   "id": "4ff77d23-464f-4243-835e-e3bc510a04a6",
   "metadata": {},
   "source": [
    "Answer:-We can create a numpy array of a 3x3 matrix containing only zeros using the np.zeros function as follows:"
   ]
  },
  {
   "cell_type": "code",
   "execution_count": 8,
   "id": "62628b04-d9d1-486f-81b2-1f075de04dc5",
   "metadata": {},
   "outputs": [
    {
     "name": "stdout",
     "output_type": "stream",
     "text": [
      "[[0. 0. 0.]\n",
      " [0. 0. 0.]\n",
      " [0. 0. 0.]]\n"
     ]
    }
   ],
   "source": [
    "zeros_array = np.zeros((3, 3))\n",
    "print(zeros_array)\n"
   ]
  },
  {
   "cell_type": "markdown",
   "id": "4792e0e5-a909-4f19-a599-f2f4cc3e023e",
   "metadata": {},
   "source": [
    "Q6. Create an identity matrix of shape (5,5) using numpy functions?\n",
    "[Hint: An identity matrix is a matrix containing 1 diagonally and other elements will be 0.]"
   ]
  },
  {
   "cell_type": "markdown",
   "id": "f717fe94-9009-4f5e-9e29-3336b8bd34c0",
   "metadata": {},
   "source": [
    "Answer:-We can create an identity matrix of shape (5,5) using the np.eye function as follows:"
   ]
  },
  {
   "cell_type": "code",
   "execution_count": null,
   "id": "713ae474-98b0-4b09-9bfe-f1d271a9aaaa",
   "metadata": {},
   "outputs": [],
   "source": []
  }
 ],
 "metadata": {
  "kernelspec": {
   "display_name": "Python 3 (ipykernel)",
   "language": "python",
   "name": "python3"
  },
  "language_info": {
   "codemirror_mode": {
    "name": "ipython",
    "version": 3
   },
   "file_extension": ".py",
   "mimetype": "text/x-python",
   "name": "python",
   "nbconvert_exporter": "python",
   "pygments_lexer": "ipython3",
   "version": "3.10.8"
  }
 },
 "nbformat": 4,
 "nbformat_minor": 5
}
